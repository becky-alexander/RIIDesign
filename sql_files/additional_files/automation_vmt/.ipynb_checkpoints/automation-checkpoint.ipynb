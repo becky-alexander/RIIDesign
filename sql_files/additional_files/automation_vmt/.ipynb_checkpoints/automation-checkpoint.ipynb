{
 "cells": [
  {
   "cell_type": "code",
   "execution_count": 14,
   "metadata": {
    "collapsed": false
   },
   "outputs": [
    {
     "ename": "SyntaxError",
     "evalue": "invalid syntax (<ipython-input-14-15b26c531c6f>, line 17)",
     "output_type": "error",
     "traceback": [
      "\u001b[0;36m  File \u001b[0;32m\"<ipython-input-14-15b26c531c6f>\"\u001b[0;36m, line \u001b[0;32m17\u001b[0m\n\u001b[0;31m    print \"Sorry there is no data for year\", x\u001b[0m\n\u001b[0m                                          ^\u001b[0m\n\u001b[0;31mSyntaxError\u001b[0m\u001b[0;31m:\u001b[0m invalid syntax\n"
     ]
    }
   ],
   "source": [
    "import urllib\n",
    "import os.path\n",
    "\n",
    "x = 00\n",
    "\n",
    "while x < 10:\n",
    "\tx = x + 1\n",
    "\n",
    "\ttry:\n",
    "\t\tx = str(x).zfill(2)\n",
    "\t\turl = 'http://www.dot.state.mn.us/roadway/data/reports/vmt/%s_ccr.xls'%x\n",
    "\t\tfilename = 'vmt_year_%s.xls'%x\n",
    "\n",
    "\t\turllib.urlretrieve(url, filename)\n",
    "\t\tx = int(x)\n",
    "\texcept:\n",
    "\t\tprint \"Sorry there is no data for year\", x\n",
    "x = 11"
   ]
  },
  {
   "cell_type": "code",
   "execution_count": 15,
   "metadata": {
    "collapsed": false
   },
   "outputs": [
    {
     "ename": "SyntaxError",
     "evalue": "invalid syntax (<ipython-input-15-5b04ebb777ad>, line 8)",
     "output_type": "error",
     "traceback": [
      "\u001b[0;36m  File \u001b[0;32m\"<ipython-input-15-5b04ebb777ad>\"\u001b[0;36m, line \u001b[0;32m8\u001b[0m\n\u001b[0;31m    print \"Sorry there is no data for year\", x\u001b[0m\n\u001b[0m                                          ^\u001b[0m\n\u001b[0;31mSyntaxError\u001b[0m\u001b[0;31m:\u001b[0m invalid syntax\n"
     ]
    }
   ],
   "source": [
    "while x < 16:\n",
    "\tx = x + 1\n",
    "\ttry:\n",
    "\t\turl = 'http://www.dot.state.mn.us/roadway/data/reports/vmt/%s_ccr.xlsx'%x\n",
    "\t\tfilename = 'vmt_year_%s.xlsx'%x\n",
    "\t\turllib.urlretrieve(url, filename)\n",
    "\texcept:\n",
    "\t\tprint \"Sorry there is no data for year\", x\n"
   ]
  },
  {
   "cell_type": "code",
   "execution_count": 16,
   "metadata": {
    "collapsed": false
   },
   "outputs": [
    {
     "ename": "NameError",
     "evalue": "name '__file__' is not defined",
     "output_type": "error",
     "traceback": [
      "\u001b[0;31m---------------------------------------------------------------------------\u001b[0m",
      "\u001b[0;31mNameError\u001b[0m                                 Traceback (most recent call last)",
      "\u001b[0;32m<ipython-input-16-06d23cbf8288>\u001b[0m in \u001b[0;36m<module>\u001b[0;34m()\u001b[0m\n\u001b[1;32m      4\u001b[0m \u001b[1;32mimport\u001b[0m \u001b[0mre\u001b[0m\u001b[1;33m\u001b[0m\u001b[0m\n\u001b[1;32m      5\u001b[0m \u001b[1;33m\u001b[0m\u001b[0m\n\u001b[0;32m----> 6\u001b[0;31m \u001b[0mfname\u001b[0m \u001b[1;33m=\u001b[0m \u001b[0mjoin\u001b[0m\u001b[1;33m(\u001b[0m\u001b[0mdirname\u001b[0m\u001b[1;33m(\u001b[0m\u001b[0mdirname\u001b[0m\u001b[1;33m(\u001b[0m\u001b[0mabspath\u001b[0m\u001b[1;33m(\u001b[0m\u001b[0m__file__\u001b[0m\u001b[1;33m)\u001b[0m\u001b[1;33m)\u001b[0m\u001b[1;33m)\u001b[0m\u001b[1;33m,\u001b[0m \u001b[1;34m'automation'\u001b[0m\u001b[1;33m,\u001b[0m \u001b[1;34m'vmt_year_12.xlsx'\u001b[0m\u001b[1;33m)\u001b[0m\u001b[1;33m\u001b[0m\u001b[0m\n\u001b[0m\u001b[1;32m      7\u001b[0m \u001b[1;33m\u001b[0m\u001b[0m\n\u001b[1;32m      8\u001b[0m \u001b[1;31m# Open the workbook\u001b[0m\u001b[1;33m\u001b[0m\u001b[1;33m\u001b[0m\u001b[0m\n",
      "\u001b[0;31mNameError\u001b[0m: name '__file__' is not defined"
     ]
    }
   ],
   "source": [
    "from __future__ import print_function\n",
    "from os.path import join, dirname, abspath\n",
    "import xlrd\n",
    "import re\n",
    "\n",
    "fname = join(dirname(dirname(abspath(__file__))), 'automation', 'vmt_year_12.xlsx')\n",
    "\n",
    "# Open the workbook\n",
    "xl_workbook = xlrd.open_workbook(fname)\n",
    "\n",
    "# List sheet names, and pull a sheet by name\n",
    "#\n",
    "sheet_names = xl_workbook.sheet_names()\n",
    "print('Sheet Names', sheet_names)\n",
    "\n",
    "xl_sheet = xl_workbook.sheet_by_name(sheet_names[1])\n",
    "\n",
    "# Pull the first row by index\n",
    "#  (rows/columns are also zero-indexed)\n",
    "#\n",
    "row = xl_sheet.row(0)  # 1st row\n",
    "\n",
    "# Print 1st row values and types\n",
    "#\n",
    "from xlrd.sheet import ctype_text\n",
    "\n",
    "print('(Column #) type:value')\n",
    "for idx, cell_obj in enumerate(row):\n",
    "    cell_type_str = ctype_text.get(cell_obj.ctype, 'unknown type')\n",
    "    print('(%s) %s %s' % (idx, cell_type_str, cell_obj.value))\n",
    "\n",
    "num_cols = xl_sheet.ncols   # Number of columns\n",
    "for row_idx in range(7, xl_sheet.nrows):    # Iterate through rows\n",
    "    papa = list()\n",
    "    d = {row_idx:[]}\n",
    "    #print (row_idx)\n",
    "    for col_idx in range(0, num_cols):\n",
    "        cell_obj = xl_sheet.cell(row_idx, col_idx)\n",
    "        papa.append(str(cell_obj))\n",
    "\n",
    "\n",
    "    t = papa[1]\n",
    "    y = (str.rstrip(t[12:]))\n",
    "    y = y.replace(\"\"\"'\"\"\", \"\")\n",
    "\n",
    "    tt = papa[2]\n",
    "    yy = (str.rstrip(tt[12:]))\n",
    "    yy = yy.replace(\"\"\"'\"\"\", \"\")\n",
    "\n",
    "    ttt = papa[3]\n",
    "    yyy = (str.rstrip(ttt[12:]))\n",
    "    yyy = yyy.replace(\"\"\"'\"\"\", \"\")\n",
    "\n",
    "    tttt = papa[5]\n",
    "    yyyy = (str.rstrip(tttt[7:]))\n",
    "\n",
    "    papa2 = list()\n",
    "\n",
    "    papa2 = (y.title(), yy.title(), yyy, yyyy)\n",
    "\n",
    "    print (papa2[0])\n"
   ]
  },
  {
   "cell_type": "code",
   "execution_count": null,
   "metadata": {
    "collapsed": true
   },
   "outputs": [],
   "source": []
  }
 ],
 "metadata": {
  "kernelspec": {
   "display_name": "Python 2",
   "language": "python",
   "name": "python2"
  },
  "language_info": {
   "codemirror_mode": {
    "name": "ipython",
    "version": 2
   },
   "file_extension": ".py",
   "mimetype": "text/x-python",
   "name": "python",
   "nbconvert_exporter": "python",
   "pygments_lexer": "ipython2",
   "version": "2.7.11"
  }
 },
 "nbformat": 4,
 "nbformat_minor": 1
}
